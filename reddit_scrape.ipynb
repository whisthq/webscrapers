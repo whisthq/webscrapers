{
 "cells": [
  {
   "cell_type": "code",
   "execution_count": 191,
   "metadata": {},
   "outputs": [],
   "source": [
    "from selenium import webdriver\n",
    "from selenium.webdriver.support.ui import WebDriverWait, Select\n",
    "from selenium.webdriver.common.by import *\n",
    "from selenium.webdriver.support import expected_conditions as EC\n",
    "from bs4 import BeautifulSoup as BS\n",
    "import csv, time, os\n",
    "import lxml\n",
    "\n",
    "url = \"https://www.reddit.com/message/compose/\"\n",
    "# url = \"https://www.reddit.com/r/Simulated/top/?t=year\"\n",
    "out = \"C:/Users/Ming\"\n",
    "title = \"reddit_usernames\"\n",
    "driver = webdriver.Chrome('C:/chromedriver/chromedriver.exe')\n",
    "driver.get(url)\n",
    "wait = WebDriverWait(driver, 10)"
   ]
  },
  {
   "cell_type": "code",
   "execution_count": 175,
   "metadata": {},
   "outputs": [],
   "source": [
    "blender_users\n",
    "video_users\n",
    "solidworks_users\n",
    "simulated_users"
   ]
  },
  {
   "cell_type": "code",
   "execution_count": 188,
   "metadata": {},
   "outputs": [
    {
     "data": {
      "text/plain": [
       "466"
      ]
     },
     "execution_count": 188,
     "metadata": {},
     "output_type": "execute_result"
    }
   ],
   "source": [
    "page_content = driver.page_source\n",
    "soup = BS(page_content)\n",
    "texts = soup.findAll(text=True)\n",
    "simulated_users = set([text for text in texts if 'u/' in text])\n",
    "len(simulated_users)"
   ]
  },
  {
   "cell_type": "code",
   "execution_count": 190,
   "metadata": {},
   "outputs": [],
   "source": []
  },
  {
   "cell_type": "code",
   "execution_count": 185,
   "metadata": {},
   "outputs": [],
   "source": [
    "SCROLL_PAUSE_TIME = 0.5\n",
    "\n",
    "# Get scroll height\n",
    "last_height = driver.execute_script(\"return document.body.scrollHeight\")\n",
    "\n",
    "while True:\n",
    "    # Scroll down to bottom\n",
    "    driver.execute_script(\"window.scrollTo(0, document.body.scrollHeight);\")\n",
    "\n",
    "    # Wait to load page\n",
    "    time.sleep(SCROLL_PAUSE_TIME)\n",
    "\n",
    "    # Calculate new scroll height and compare with last scroll height\n",
    "    new_height = driver.execute_script(\"return document.body.scrollHeight\")\n",
    "    if new_height == last_height:\n",
    "        break\n",
    "    last_height = new_height"
   ]
  },
  {
   "cell_type": "code",
   "execution_count": null,
   "metadata": {},
   "outputs": [],
   "source": [
    "for username in list(set(simulated_users)):\n",
    "    if username:\n",
    "        try:\n",
    "            frames = driver.find_elements_by_xpath(\"//iframe\")\n",
    "            driver.switch_to.frame(frames[0])\n",
    "            page_content = driver.page_source\n",
    "            soup = BS(page_content)\n",
    "            texts = soup.findAll(text=True)\n",
    "            inputs = driver.find_elements_by_xpath(\"//input\")\n",
    "            textarea = driver.find_elements_by_xpath(\"//textarea\")\n",
    "            inputs[2].send_keys(username)\n",
    "            inputs[3].send_keys(\"Fellow Redditor Reaching Out\")\n",
    "            textarea[1].send_keys(\"Hello!\\n\\nMy name is Mike. I saw your post on the r/Simulated subreddit recently (great content, btw!). I'm reaching out to you today because I'm a computer science grad researcher who is studying the kinds of hardware that creative pros/devs like yourself use, and I'm wondering if you would happen to have twenty seconds to glance at a brief survey I made. It's only five questions, and I'd sincerely appreciate hearing your insights. Here is the Google forms link: https://forms.gle/6weH9VUQyitKiHUg7 \\n\\nThank you for your time!\\n-Mike\")\n",
    "            buttons = driver.find_elements_by_xpath(\"//button\")\n",
    "            buttons[4].click()\n",
    "            time.sleep(1)\n",
    "            inputs[2].clear()\n",
    "            inputs[3].clear()\n",
    "            textarea[1].clear()\n",
    "            time.sleep(1)\n",
    "        except Exception as e:\n",
    "            print(e)\n",
    "            inputs[2].clear()\n",
    "            inputs[3].clear()\n",
    "            textarea[1].clear()\n",
    "        driver.switch_to.default_content()\n",
    "print(\"done!\")"
   ]
  }
 ],
 "metadata": {
  "kernelspec": {
   "display_name": "Python 3",
   "language": "python",
   "name": "python3"
  },
  "language_info": {
   "codemirror_mode": {
    "name": "ipython",
    "version": 3
   },
   "file_extension": ".py",
   "mimetype": "text/x-python",
   "name": "python",
   "nbconvert_exporter": "python",
   "pygments_lexer": "ipython3",
   "version": "3.5.2"
  }
 },
 "nbformat": 4,
 "nbformat_minor": 2
}
