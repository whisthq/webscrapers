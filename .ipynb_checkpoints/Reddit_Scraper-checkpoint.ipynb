{
 "cells": [
  {
   "cell_type": "code",
   "execution_count": 1,
   "metadata": {},
   "outputs": [],
   "source": [
    "from selenium import webdriver\n",
    "from selenium.webdriver.support.ui import WebDriverWait, Select\n",
    "from selenium.webdriver.common.by import *\n",
    "from selenium.webdriver.support import expected_conditions as EC\n",
    "from bs4 import BeautifulSoup as BS\n",
    "import csv, time, os\n",
    "import lxml\n",
    "import random\n",
    "from tqdm import tqdm\n",
    "\n",
    "pinged_users = []\n",
    "\n",
    "def get_driver(url):\n",
    "    options = webdriver.ChromeOptions() \n",
    "    options.add_argument(\"start-maximized\")\n",
    "    options.add_experimental_option(\"excludeSwitches\", [\"enable-automation\"])\n",
    "    options.add_experimental_option('useAutomationExtension', False)\n",
    "    driver = webdriver.Chrome(options=options, executable_path='C:/chromedriver/chromedriver.exe')\n",
    "    driver.get(url)\n",
    "    wait = WebDriverWait(driver, 10)\n",
    "    return driver\n",
    "\n",
    "def get_usernames(driver):\n",
    "    for i in tqdm(range(1,200)):\n",
    "        driver.execute_script(\"window.scrollTo(0, document.body.scrollHeight);\")\n",
    "        time.sleep(0.5)\n",
    "\n",
    "    page_content = driver.page_source\n",
    "    soup = BS(page_content)\n",
    "    texts = soup.findAll(text=True)\n",
    "    users = set([text for text in texts if 'u/' in text])\n",
    "    return users\n",
    "\n",
    "def write_usernames(file_name, users):\n",
    "    with open(\"C:/Users/ming_/Fractal/reddit-webscraping/\" + file_name, 'w') as myfile:\n",
    "        wr = csv.writer(myfile, quoting=csv.QUOTE_ALL)\n",
    "        wr.writerow(users)\n",
    "\n",
    "def spam(driver, users, message_string):\n",
    "    ## Reddit added a bunch of crap, before running this we need to manually go in and delete all their \n",
    "    ## iframe tags except the one we need\n",
    "    ## Let the spamming begin\n",
    "    for username in tqdm(list(users)):\n",
    "        if username:\n",
    "            print(f\"Sending to {username}\")\n",
    "            try:\n",
    "                frames = driver.find_elements_by_xpath(\"//iframe\")\n",
    "                driver.switch_to.frame(frames[0])\n",
    "                page_content = driver.page_source\n",
    "                soup = BS(page_content)\n",
    "                texts = soup.findAll(text=True)\n",
    "                inputs = driver.find_elements_by_xpath(\"//input\")\n",
    "                textarea = driver.find_elements_by_xpath(\"//textarea\")\n",
    "                inputs[2].send_keys(username)\n",
    "                time.sleep(1.5)\n",
    "                inputs[3].send_keys(\"Hi!\")\n",
    "                time.sleep(2.5)\n",
    "                textarea[1].send_keys(message_string)\n",
    "                time.sleep(4.5)\n",
    "                buttons = driver.find_elements_by_xpath(\"//button\")\n",
    "                buttons[4].click()\n",
    "                time.sleep(2)\n",
    "                inputs[2].clear()\n",
    "                inputs[3].clear()\n",
    "                textarea[1].clear()\n",
    "                time.sleep(1)\n",
    "            except Exception as e:\n",
    "                print(e)\n",
    "                inputs[2].clear()\n",
    "                inputs[3].clear()\n",
    "                textarea[1].clear()\n",
    "            driver.switch_to.default_content()\n",
    "        pinged_users.append(username)\n",
    "        time.sleep(random.randint(120,130))"
   ]
  },
  {
   "cell_type": "code",
   "execution_count": 2,
   "metadata": {},
   "outputs": [
    {
     "name": "stdout",
     "output_type": "stream",
     "text": [
      "Collecting tqdm\n",
      "  Downloading tqdm-4.58.0-py2.py3-none-any.whl (73 kB)\n",
      "Installing collected packages: tqdm\n",
      "Successfully installed tqdm-4.58.0\n"
     ]
    },
    {
     "name": "stderr",
     "output_type": "stream",
     "text": [
      "WARNING: You are using pip version 20.2.3; however, version 21.0.1 is available.\n",
      "You should consider upgrading via the 'c:\\users\\ming_\\appdata\\local\\programs\\python\\python39\\python.exe -m pip install --upgrade pip' command.\n"
     ]
    }
   ],
   "source": [
    "# Install a pip package in the current Jupyter kernel\n",
    "# import sys\n",
    "# !{sys.executable} -m pip install tqdm"
   ]
  },
  {
   "cell_type": "code",
   "execution_count": null,
   "metadata": {},
   "outputs": [
    {
     "name": "stderr",
     "output_type": "stream",
     "text": [
      " 43%|███████████████████████████████████                                              | 86/199 [01:05<02:12,  1.17s/it]"
     ]
    }
   ],
   "source": [
    "url = \"https://www.reddit.com/r/chrome/\"\n",
    "driver = get_driver(url)\n",
    "time.sleep(20)\n",
    "chrome_users_2 = get_usernames(driver)"
   ]
  },
  {
   "cell_type": "code",
   "execution_count": 37,
   "metadata": {},
   "outputs": [
    {
     "name": "stdout",
     "output_type": "stream",
     "text": [
      "514\n"
     ]
    }
   ],
   "source": [
    "print(len(airtable_users))\n",
    "write_usernames('airtable_users', airtable_users)"
   ]
  },
  {
   "cell_type": "code",
   "execution_count": 38,
   "metadata": {},
   "outputs": [],
   "source": [
    "import pandas as pd\n",
    "\n",
    "def read_users(users):\n",
    "    try:\n",
    "        return set(pd.read_csv('C:/Users/ming_/Fractal/reddit-webscraping/' + users, error_bad_lines = False, encoding = \"ISO-8859-1\"))\n",
    "    except Exception as e:\n",
    "        print(e)\n",
    "        return None\n",
    "    \n",
    "figma_users = read_users('figma_users')\n",
    "chrome_users = read_users('chrome_users')"
   ]
  },
  {
   "cell_type": "code",
   "execution_count": 40,
   "metadata": {},
   "outputs": [
    {
     "name": "stdout",
     "output_type": "stream",
     "text": [
      "496\n"
     ]
    }
   ],
   "source": [
    "airtable_users = set(airtable_users).difference(chrome_users).difference(figma_users)\n",
    "print(len(airtable_users))"
   ]
  },
  {
   "cell_type": "code",
   "execution_count": 41,
   "metadata": {},
   "outputs": [],
   "source": [
    "driver = get_driver(\"https://www.reddit.com/message/compose\")"
   ]
  },
  {
   "cell_type": "code",
   "execution_count": 43,
   "metadata": {},
   "outputs": [
    {
     "name": "stderr",
     "output_type": "stream",
     "text": [
      "\r",
      "  0%|                                                                                            | 0/1 [00:00<?, ?it/s]"
     ]
    },
    {
     "name": "stdout",
     "output_type": "stream",
     "text": [
      "Sending to u/philippemnoel\n"
     ]
    },
    {
     "name": "stderr",
     "output_type": "stream",
     "text": [
      "100%|███████████████████████████████████████████████████████████████████████████████████| 1/1 [02:13<00:00, 133.36s/it]\n"
     ]
    }
   ],
   "source": [
    "airtable_users = list(airtable_users)\n",
    "airtable_users.sort()\n",
    "typeform_link = \"https://tryfractal.typeform.com/to/BntanVoh\"\n",
    "message_string = f\"Hey!\\n\\nMy name is Phil. I saw your post on r/airtable and wanted to reach out b/c I'm part of a startup that's developed a much faster + lighter version of Airtable. I'm wondering if you have a minute for a quick survey. Here is the link: {typeform_link}, it's super short and I'd sincerely love to hear your insights. \\n\\n If you're curious, more info on what we're making is in the survey, we're also looking for beta testers! Thank you for your time :)\"\n",
    "\n",
    "spam(driver,[\"u/philippemnoel\"], message_string)\n",
    "# spam(driver,airtable_users, message_string)"
   ]
  },
  {
   "cell_type": "code",
   "execution_count": null,
   "metadata": {},
   "outputs": [],
   "source": []
  }
 ],
 "metadata": {
  "kernelspec": {
   "display_name": "Python 3",
   "language": "python",
   "name": "python3"
  },
  "language_info": {
   "codemirror_mode": {
    "name": "ipython",
    "version": 3
   },
   "file_extension": ".py",
   "mimetype": "text/x-python",
   "name": "python",
   "nbconvert_exporter": "python",
   "pygments_lexer": "ipython3",
   "version": "3.9.0"
  }
 },
 "nbformat": 4,
 "nbformat_minor": 2
}
